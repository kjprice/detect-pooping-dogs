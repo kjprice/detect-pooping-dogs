{
 "cells": [
  {
   "cell_type": "code",
   "execution_count": 1,
   "metadata": {
    "scrolled": true
   },
   "outputs": [],
   "source": [
    "from tensorflow.keras.applications.resnet50 import ResNet50\n",
    "from tensorflow.keras.preprocessing import image\n",
    "from tensorflow.keras.applications.resnet50 import preprocess_input, decode_predictions\n",
    "import numpy as np\n",
    "\n",
    "from nltk.corpus import wordnet\n",
    "\n",
    "import os"
   ]
  },
  {
   "cell_type": "code",
   "execution_count": 2,
   "metadata": {},
   "outputs": [],
   "source": [
    "DATA_DIR = os.path.join('..', 'data')\n",
    "\n",
    "TEST_IMAGE_DIR = os.path.join(DATA_DIR, 'test-images')\n",
    "\n"
   ]
  },
  {
   "cell_type": "code",
   "execution_count": 3,
   "metadata": {},
   "outputs": [],
   "source": [
    "dog_images = ['walking-the-dog.jpg', 'yellow-dog.jpeg']\n",
    "\n",
    "not_dog_images = ['front-yard.jpg', 'living-room.jpg']\n"
   ]
  },
  {
   "cell_type": "code",
   "execution_count": 4,
   "metadata": {},
   "outputs": [],
   "source": [
    "model = ResNet50(weights='imagenet')\n",
    "\n"
   ]
  },
  {
   "cell_type": "code",
   "execution_count": 5,
   "metadata": {},
   "outputs": [],
   "source": [
    "def get_test_image_path(file_name):\n",
    "    return os.path.join(TEST_IMAGE_DIR, file_name)"
   ]
  },
  {
   "cell_type": "code",
   "execution_count": 6,
   "metadata": {},
   "outputs": [],
   "source": [
    "def name_exists_in_hypernym(name, syn):\n",
    "    hypernyms = syn.hypernyms()\n",
    "    \n",
    "    if hypernyms is None or len(hypernyms) == 0:\n",
    "        return False\n",
    "    \n",
    "    for hypernym in hypernyms:\n",
    "        hypernym_name = syn.name()\n",
    "        if name in hypernym_name:\n",
    "            return True\n",
    "        if name_exists_in_hypernym(name, hypernym):\n",
    "            return True\n",
    "    \n",
    "    return False"
   ]
  },
  {
   "cell_type": "code",
   "execution_count": 7,
   "metadata": {},
   "outputs": [],
   "source": [
    "def is_dog_in_image_prediction(prediction):\n",
    "    prediction_name = prediction[1]\n",
    "    \n",
    "    if 'dog' in prediction_name:\n",
    "        return True\n",
    "    \n",
    "    synsets = wordnet.synsets(prediction_name)\n",
    "    if synsets is None or len(synsets) == 0:\n",
    "        return False\n",
    "    \n",
    "    for syn in synsets:\n",
    "        if name_exists_in_hypernym('dog', syn):\n",
    "            return True\n",
    "    return False\n",
    "\n",
    "    \n",
    "    "
   ]
  },
  {
   "cell_type": "code",
   "execution_count": 8,
   "metadata": {},
   "outputs": [],
   "source": [
    "def display_image(image_name):\n",
    "    image_filepath = get_test_image_path(image_name)\n",
    "\n",
    "    return image.load_img(image_filepath, target_size=(224, 224))"
   ]
  },
  {
   "cell_type": "code",
   "execution_count": 9,
   "metadata": {},
   "outputs": [
    {
     "name": "stdout",
     "output_type": "stream",
     "text": [
      "Predicted: [('n02088238', 'basset', 0.4150713), ('n02088466', 'bloodhound', 0.0665933), ('n02088094', 'Afghan_hound', 0.03386655)]\n",
      "Predicted: [('n02099601', 'golden_retriever', 0.4936183), ('n02099712', 'Labrador_retriever', 0.20975316), ('n02088466', 'bloodhound', 0.15128355)]\n"
     ]
    }
   ],
   "source": [
    "def get_image_predictions(image_name):\n",
    "    image_filepath = get_test_image_path(image_name)\n",
    "        \n",
    "    img = image.load_img(image_filepath, target_size=(224, 224))\n",
    "    x = image.img_to_array(img)\n",
    "    x = np.expand_dims(x, axis=0)\n",
    "    x = preprocess_input(x)\n",
    "\n",
    "    preds = model.predict(x)\n",
    "    \n",
    "    return  decode_predictions(preds, top=3)[0]\n",
    "\n",
    "def predict_images():\n",
    "    for image_name in dog_images:\n",
    "        predictions = get_image_predictions(image_name)\n",
    "        \n",
    "        print('Predicted:', predictions)\n",
    "        \n",
    "predict_images()"
   ]
  },
  {
   "cell_type": "code",
   "execution_count": 10,
   "metadata": {},
   "outputs": [
    {
     "name": "stdout",
     "output_type": "stream",
     "text": [
      "True\n",
      "True\n"
     ]
    }
   ],
   "source": [
    "def is_dog_in_image(image_name):\n",
    "    predictions = get_image_predictions(image_name)\n",
    "    \n",
    "    for prediction in predictions:\n",
    "        if is_dog_in_image_prediction(prediction):\n",
    "            return True\n",
    "    return False\n",
    "    \n",
    "    \n",
    "for dog_image_path in dog_images:\n",
    "    print(is_dog_in_image(dog_image_path))"
   ]
  },
  {
   "cell_type": "code",
   "execution_count": 11,
   "metadata": {},
   "outputs": [
    {
     "name": "stdout",
     "output_type": "stream",
     "text": [
      "[('n03891251', 'park_bench', 0.30316633), ('n03899768', 'patio', 0.16220686), ('n09332890', 'lakeside', 0.117380574)]\n",
      "False\n",
      "[('n04239074', 'sliding_door', 0.30991945), ('n03529860', 'home_theater', 0.19330558), ('n04590129', 'window_shade', 0.064584784)]\n",
      "False\n"
     ]
    }
   ],
   "source": [
    "for not_dog_image in not_dog_images:\n",
    "    print(get_image_predictions(not_dog_image))\n",
    "    print(is_dog_in_image(not_dog_image))"
   ]
  },
  {
   "cell_type": "code",
   "execution_count": 12,
   "metadata": {},
   "outputs": [],
   "source": [
    "# wordnet.synsets('golden_retriever')[0].hypernyms()[0].hypernyms()[0].hypernyms()[0].hypernyms()[0].name()"
   ]
  }
 ],
 "metadata": {
  "kernelspec": {
   "display_name": "Python 3",
   "language": "python",
   "name": "python3"
  },
  "language_info": {
   "codemirror_mode": {
    "name": "ipython",
    "version": 3
   },
   "file_extension": ".py",
   "mimetype": "text/x-python",
   "name": "python",
   "nbconvert_exporter": "python",
   "pygments_lexer": "ipython3",
   "version": "3.6.8"
  }
 },
 "nbformat": 4,
 "nbformat_minor": 2
}
